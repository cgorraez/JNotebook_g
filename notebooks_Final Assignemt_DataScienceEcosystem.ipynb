{
  "metadata": {
    "language_info": {
      "codemirror_mode": {
        "name": "python",
        "version": 3
      },
      "file_extension": ".py",
      "mimetype": "text/x-python",
      "name": "python",
      "nbconvert_exporter": "python",
      "pygments_lexer": "ipython3",
      "version": "3.8"
    },
    "kernelspec": {
      "name": "python",
      "display_name": "Python (Pyodide)",
      "language": "python"
    }
  },
  "nbformat_minor": 4,
  "nbformat": 4,
  "cells": [
    {
      "cell_type": "markdown",
      "source": "# Data Science Tools and Ecosystem",
      "metadata": {}
    },
    {
      "cell_type": "markdown",
      "source": "In this notebook, Data Science Tools and Ecosystem are summarized",
      "metadata": {}
    },
    {
      "cell_type": "markdown",
      "source": "**Objectives:**\n* List popular languages in Data Science\n* List commonly used libraries used in Data Science\n* Data Science Integrated Development Environment (IDE's)\n* Some arithmetic expressions in Python",
      "metadata": {}
    },
    {
      "cell_type": "markdown",
      "source": "Some of the popular languages that Data Scientists use are:\n1. Phyton\n1. R\n1. SQL\n1. Java\n1. C++",
      "metadata": {}
    },
    {
      "cell_type": "markdown",
      "source": "Some of the commonly used libraries used by Data Scientist include:\n1. Scientifics Computing:\n    - Pandas (Data structures & tools)\n    - NumPy (Arrays & matrices)\n1. Visualization:\n    - Matplotlib (plot & graphs)\n    - Seaborn (plots: Heat maps, time series, violin plots)\n1. Machine learning and Deep learning:\n    - Scikit-learn (Machine learning: regression, clasification, clustering)\n    - Keras (Deep Learning Neural Networks) \n1. Deep Learning:\n    - TensorFlow (Production and Deployement)\n    - PyTorch (regression and clasification)\n    \n    ",
      "metadata": {}
    },
    {
      "cell_type": "markdown",
      "source": "| Data Science Tools |\n----------------------\n| Jupyter Lab |\n| R Studio |\n| Spyder | \n| Apache Zeppelin |\n-------------------",
      "metadata": {}
    },
    {
      "cell_type": "markdown",
      "source": "### Below are a few examples of evaluating arithmetic expressions in Phyton.",
      "metadata": {}
    },
    {
      "cell_type": "code",
      "source": "##This a simple arithmetic expression to mutiply then add integers:\n(3*4)+5",
      "metadata": {
        "trusted": true
      },
      "execution_count": 7,
      "outputs": [
        {
          "execution_count": 7,
          "output_type": "execute_result",
          "data": {
            "text/plain": "17"
          },
          "metadata": {}
        }
      ]
    },
    {
      "cell_type": "code",
      "source": "##This will convert 200 minutes to hours by diving by 60\ndivmod(200, 60)",
      "metadata": {
        "trusted": true
      },
      "execution_count": 14,
      "outputs": [
        {
          "execution_count": 14,
          "output_type": "execute_result",
          "data": {
            "text/plain": "(3, 20)"
          },
          "metadata": {}
        }
      ]
    },
    {
      "cell_type": "markdown",
      "source": "## Author\nCarlos Gorraez Meraz",
      "metadata": {}
    },
    {
      "cell_type": "code",
      "source": "",
      "metadata": {},
      "execution_count": null,
      "outputs": []
    }
  ]
}